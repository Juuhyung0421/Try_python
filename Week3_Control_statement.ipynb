{
 "cells": [
  {
   "cell_type": "markdown",
   "metadata": {},
   "source": [
    "# If문"
   ]
  },
  {
   "cell_type": "markdown",
   "metadata": {},
   "source": [
    " - 만약 ~라면 이라는 조건문에서  **True** 라면 실행할 실행문과  **False**라면 실행할 실행문을 작성하는 것이다.\n",
    " - 기본 구조는 <br>\n",
    "if True 조건문 :  <br>\n",
    "(indentation)실행문 <br>\n",
    "else False 조건문 : <br>\n",
    "(indentation) 실행문"
   ]
  },
  {
   "cell_type": "markdown",
   "metadata": {},
   "source": [
    "## 기본 구조 설명"
   ]
  },
  {
   "cell_type": "markdown",
   "metadata": {},
   "source": [
    " - if - else 구조"
   ]
  },
  {
   "cell_type": "code",
   "execution_count": 50,
   "metadata": {},
   "outputs": [
    {
     "name": "stdout",
     "output_type": "stream",
     "text": [
      "치킨을 먹자!!!!\n"
     ]
    }
   ],
   "source": [
    "money = True\n",
    "if money == True : \n",
    "    print ('치킨을 먹자!!!!')\n",
    "else : \n",
    "    print ('치킨맛 과자를 먹자...')"
   ]
  },
  {
   "cell_type": "code",
   "execution_count": 56,
   "metadata": {},
   "outputs": [
    {
     "ename": "IndentationError",
     "evalue": "unexpected indent (<ipython-input-56-d336eed978ee>, line 5)",
     "output_type": "error",
     "traceback": [
      "\u001b[0;36m  File \u001b[0;32m\"<ipython-input-56-d336eed978ee>\"\u001b[0;36m, line \u001b[0;32m5\u001b[0m\n\u001b[0;31m    print ('피자도 먹자!!!')\u001b[0m\n\u001b[0m    ^\u001b[0m\n\u001b[0;31mIndentationError\u001b[0m\u001b[0;31m:\u001b[0m unexpected indent\n"
     ]
    }
   ],
   "source": [
    "money = True\n",
    "if money == True : \n",
    "    print ('치킨을 먹자!!!!')\n",
    "    print (\"야호 신난다!!\")\n",
    "        print ('피자도 먹자!!!') # 들여쓰기 에러 예시\n",
    "else : \n",
    "    print ('치킨맛 과자를 먹자...')"
   ]
  },
  {
   "cell_type": "markdown",
   "metadata": {},
   "source": [
    " - if - else 구조"
   ]
  },
  {
   "cell_type": "code",
   "execution_count": 58,
   "metadata": {},
   "outputs": [
    {
     "name": "stdout",
     "output_type": "stream",
     "text": [
      "치킨맛 과자를 먹자...\n"
     ]
    }
   ],
   "source": [
    "money = 10000\n",
    "if money > 19000 : \n",
    "    print('양념 치킨을 먹자!!!')\n",
    "else :\n",
    "    print('치킨맛 과자를 먹자...')"
   ]
  },
  {
   "cell_type": "markdown",
   "metadata": {},
   "source": [
    " - if - else 구조 (or 조건)"
   ]
  },
  {
   "cell_type": "code",
   "execution_count": 59,
   "metadata": {},
   "outputs": [
    {
     "name": "stdout",
     "output_type": "stream",
     "text": [
      "갈비천왕을 먹자!!!\n"
     ]
    }
   ],
   "source": [
    "money = 10000\n",
    "coupon = True\n",
    "\n",
    "if money > 19000 or coupon == True : \n",
    "    print ('갈비천왕을 먹자!!!')\n",
    "else : \n",
    "    print ('닭꼬치를 먹자....')"
   ]
  },
  {
   "cell_type": "markdown",
   "metadata": {},
   "source": [
    "if - else 구조 (and 조건)"
   ]
  },
  {
   "cell_type": "code",
   "execution_count": 60,
   "metadata": {},
   "outputs": [
    {
     "name": "stdout",
     "output_type": "stream",
     "text": [
      "닭꼬치를 먹자....\n"
     ]
    }
   ],
   "source": [
    "money = 10000\n",
    "coupon = True\n",
    "\n",
    "if money > 19000 and coupon == True : \n",
    "    print ('갈비천왕을 먹자!!!')\n",
    "else : \n",
    "    print ('닭꼬치를 먹자....')"
   ]
  },
  {
   "cell_type": "markdown",
   "metadata": {},
   "source": [
    " - if - elif - else 구조"
   ]
  },
  {
   "cell_type": "code",
   "execution_count": 96,
   "metadata": {},
   "outputs": [
    {
     "name": "stdout",
     "output_type": "stream",
     "text": [
      "피자를 주문해라\n"
     ]
    }
   ],
   "source": [
    "money = False\n",
    "card = True\n",
    "\n",
    "if money == True : \n",
    "    print ('치킨을 주문해라')\n",
    "elif card == True : \n",
    "    print ('피자를 주문해라')\n",
    "else : \n",
    "    print('굶어라')"
   ]
  },
  {
   "cell_type": "markdown",
   "metadata": {},
   "source": [
    " - in /  not in 함수 설명"
   ]
  },
  {
   "cell_type": "code",
   "execution_count": 63,
   "metadata": {},
   "outputs": [],
   "source": [
    "l1 = [1,2,3,4]"
   ]
  },
  {
   "cell_type": "code",
   "execution_count": 64,
   "metadata": {},
   "outputs": [
    {
     "data": {
      "text/plain": [
       "True"
      ]
     },
     "execution_count": 64,
     "metadata": {},
     "output_type": "execute_result"
    }
   ],
   "source": [
    "1 in l1"
   ]
  },
  {
   "cell_type": "code",
   "execution_count": 68,
   "metadata": {},
   "outputs": [
    {
     "data": {
      "text/plain": [
       "False"
      ]
     },
     "execution_count": 68,
     "metadata": {},
     "output_type": "execute_result"
    }
   ],
   "source": [
    "1 not in l1"
   ]
  },
  {
   "cell_type": "code",
   "execution_count": 65,
   "metadata": {
    "scrolled": true
   },
   "outputs": [
    {
     "data": {
      "text/plain": [
       "False"
      ]
     },
     "execution_count": 65,
     "metadata": {},
     "output_type": "execute_result"
    }
   ],
   "source": [
    "5 in l1"
   ]
  },
  {
   "cell_type": "code",
   "execution_count": 69,
   "metadata": {},
   "outputs": [
    {
     "data": {
      "text/plain": [
       "True"
      ]
     },
     "execution_count": 69,
     "metadata": {},
     "output_type": "execute_result"
    }
   ],
   "source": [
    "5 not in l1"
   ]
  },
  {
   "cell_type": "markdown",
   "metadata": {},
   "source": [
    " - if - else 구조 (in, not in 조건)"
   ]
  },
  {
   "cell_type": "code",
   "execution_count": 70,
   "metadata": {},
   "outputs": [
    {
     "name": "stdout",
     "output_type": "stream",
     "text": [
      "택시를 타고 가자!\n"
     ]
    }
   ],
   "source": [
    "wallet = ['blue', 'green', 'yellow']\n",
    "\n",
    "if 'yellow' in wallet : \n",
    "    print ('택시를 타고 가자!')\n",
    "else : \n",
    "    print ('걸어가자...')"
   ]
  },
  {
   "cell_type": "markdown",
   "metadata": {},
   "source": [
    "## 연습문제 1"
   ]
  },
  {
   "cell_type": "code",
   "execution_count": 71,
   "metadata": {},
   "outputs": [],
   "source": [
    "bag = ['card', 'earphone', 'book']"
   ]
  },
  {
   "cell_type": "markdown",
   "metadata": {},
   "source": [
    "문제1. 만약 가방에 돈이 있다면 택시를 타고 이어폰과 카드가 있다면 버스를 타라."
   ]
  },
  {
   "cell_type": "code",
   "execution_count": 72,
   "metadata": {},
   "outputs": [
    {
     "name": "stdout",
     "output_type": "stream",
     "text": [
      "버스를 타자!\n"
     ]
    }
   ],
   "source": [
    "if 'money' in bag : \n",
    "    print ('택시를 타자!')\n",
    "elif 'earphone' and 'card' in bag : \n",
    "    print ('버스를 타자!')\n",
    "else : \n",
    "    print ('걸어가자')"
   ]
  },
  {
   "cell_type": "markdown",
   "metadata": {},
   "source": [
    "# For 문"
   ]
  },
  {
   "cell_type": "markdown",
   "metadata": {},
   "source": [
    " - for 문은 iterable에 있는 변수를 하나씩 뽑아가며 구성된다.\n",
    " - iterable이란 데이터 그룹에서 멤버를 하나씩 반환 가능한 object를 말한다.\n",
    " - 모든 시퀀스 데이터(list, tuple, str)는 iterable이고 dic 과 file 도 iterable에 속한다.\n",
    " - 기본 구조는 <br>\n",
    " for item in iterbale : 이며 <br>\n",
    " item 에는 반복용 변수를 넣는다. <br>\n",
    " item이란 것은 반복처리에 사용되는 일시적 변수이고 이름은 어떤것을 사용하던 상관 없다."
   ]
  },
  {
   "cell_type": "markdown",
   "metadata": {},
   "source": [
    "## 기본 구조 설명"
   ]
  },
  {
   "cell_type": "markdown",
   "metadata": {},
   "source": [
    " - 리스트로 본 for 문"
   ]
  },
  {
   "cell_type": "code",
   "execution_count": 21,
   "metadata": {},
   "outputs": [
    {
     "name": "stdout",
     "output_type": "stream",
     "text": [
      "1\n",
      "2\n",
      "3\n",
      "4\n",
      "5\n"
     ]
    }
   ],
   "source": [
    "l1 = [1,2,3,4,5]\n",
    "for item in l1 : \n",
    "    print(item)"
   ]
  },
  {
   "cell_type": "code",
   "execution_count": 24,
   "metadata": {},
   "outputs": [],
   "source": [
    "l2 = [(1,2), (3,4), (5,6)] # 리스트의 구성 요소는 튜플로 되어있다."
   ]
  },
  {
   "cell_type": "code",
   "execution_count": 27,
   "metadata": {},
   "outputs": [
    {
     "data": {
      "text/plain": [
       "list"
      ]
     },
     "execution_count": 27,
     "metadata": {},
     "output_type": "execute_result"
    }
   ],
   "source": [
    "type(l2)"
   ]
  },
  {
   "cell_type": "code",
   "execution_count": 26,
   "metadata": {},
   "outputs": [
    {
     "data": {
      "text/plain": [
       "tuple"
      ]
     },
     "execution_count": 26,
     "metadata": {},
     "output_type": "execute_result"
    }
   ],
   "source": [
    "type(l2[0])"
   ]
  },
  {
   "cell_type": "code",
   "execution_count": 29,
   "metadata": {},
   "outputs": [
    {
     "name": "stdout",
     "output_type": "stream",
     "text": [
      "sum : 3\n",
      "sum : 7\n",
      "sum : 11\n"
     ]
    }
   ],
   "source": [
    "for (first, last) in l2 : \n",
    "    print('sum :', first + last )"
   ]
  },
  {
   "cell_type": "markdown",
   "metadata": {},
   "source": [
    "- 딕셔너리로 본 for문"
   ]
  },
  {
   "cell_type": "code",
   "execution_count": 39,
   "metadata": {},
   "outputs": [],
   "source": [
    "dic1 = {'a' : 10, 'b' : 3, 'c' : 12}"
   ]
  },
  {
   "cell_type": "code",
   "execution_count": 40,
   "metadata": {},
   "outputs": [
    {
     "name": "stdout",
     "output_type": "stream",
     "text": [
      "a\n",
      "b\n",
      "c\n"
     ]
    }
   ],
   "source": [
    "for item  in dic1 : \n",
    "    print(item)"
   ]
  },
  {
   "cell_type": "markdown",
   "metadata": {},
   "source": [
    "키만 반환한다."
   ]
  },
  {
   "cell_type": "code",
   "execution_count": 42,
   "metadata": {},
   "outputs": [
    {
     "data": {
      "text/plain": [
       "10"
      ]
     },
     "execution_count": 42,
     "metadata": {},
     "output_type": "execute_result"
    }
   ],
   "source": [
    "dic1['a'] # 값을 반환하려면 키를 이용"
   ]
  },
  {
   "cell_type": "code",
   "execution_count": 44,
   "metadata": {},
   "outputs": [
    {
     "data": {
      "text/plain": [
       "25"
      ]
     },
     "execution_count": 44,
     "metadata": {},
     "output_type": "execute_result"
    }
   ],
   "source": [
    "sum_dic1 = 0\n",
    "for item in dic1 : \n",
    "    sum_dic1 += dic1[item]\n",
    "\n",
    "sum_dic1"
   ]
  },
  {
   "cell_type": "markdown",
   "metadata": {},
   "source": [
    "총 5명이 시험을 보았는데 시험 점수가 60점이 넘으면 합격이고 그렇지 않으면 불합격이다."
   ]
  },
  {
   "cell_type": "code",
   "execution_count": 130,
   "metadata": {},
   "outputs": [
    {
     "name": "stdout",
     "output_type": "stream",
     "text": [
      "1번 학생은 합격입니다.\n",
      "2번 학생은 불합격입니다.\n",
      "3번 학생은 불합격입니다.\n",
      "4번 학생은 불합격입니다.\n",
      "5번 학생은 합격입니다.\n"
     ]
    }
   ],
   "source": [
    "test = [90, 50, 30, 45, 80]\n",
    "\n",
    "number = 0\n",
    "\n",
    "for i in test : \n",
    "    number += 1\n",
    "    if i >= 60 : \n",
    "        print('%d번 학생은 합격입니다.' %number)\n",
    "    else : \n",
    "        print('%d번 학생은 불합격입니다.' %number)"
   ]
  },
  {
   "cell_type": "markdown",
   "metadata": {},
   "source": [
    "### Formatting"
   ]
  },
  {
   "cell_type": "markdown",
   "metadata": {},
   "source": [
    " - 포맷팅이란 직접 값을 입력하는 것이 아니라 참조를 받아 값을 입력하는 방식이다.\n",
    " - 포맷팅을 할 때는 각 자료형에 맞는 포맷팅 코드를 입력해야 한다.\n",
    " \n",
    " - Formatting code\n",
    "     - %s : 문자열 (str)\n",
    "     - %c : 문자 1개 (chracter)\n",
    "     - %d : 정수 (integer)\n",
    "     - %f : 부동 소수 (floating point)"
   ]
  },
  {
   "cell_type": "code",
   "execution_count": 132,
   "metadata": {},
   "outputs": [],
   "source": [
    "hamburger = 2\n",
    "pizza = 3\n",
    "chicken = 1"
   ]
  },
  {
   "cell_type": "code",
   "execution_count": 133,
   "metadata": {},
   "outputs": [
    {
     "data": {
      "text/plain": [
       "'햄버거를 최대 2개 먹을 수 있습니다.'"
      ]
     },
     "execution_count": 133,
     "metadata": {},
     "output_type": "execute_result"
    }
   ],
   "source": [
    "'햄버거를 최대 %d개 먹을 수 있습니다.' %hamburger"
   ]
  },
  {
   "cell_type": "code",
   "execution_count": 134,
   "metadata": {},
   "outputs": [
    {
     "data": {
      "text/plain": [
       "'피자는 최대 3조각 먹을 수 있습니다.'"
      ]
     },
     "execution_count": 134,
     "metadata": {},
     "output_type": "execute_result"
    }
   ],
   "source": [
    "'피자는 최대 %d조각 먹을 수 있습니다.' %pizza"
   ]
  },
  {
   "cell_type": "code",
   "execution_count": 135,
   "metadata": {},
   "outputs": [
    {
     "data": {
      "text/plain": [
       "'치킨은 최대 1마리 먹을 수 있습니다.'"
      ]
     },
     "execution_count": 135,
     "metadata": {},
     "output_type": "execute_result"
    }
   ],
   "source": [
    "'치킨은 최대 %d마리 먹을 수 있습니다.' %chicken"
   ]
  },
  {
   "cell_type": "code",
   "execution_count": 136,
   "metadata": {},
   "outputs": [],
   "source": [
    "host = '이주형'\n",
    "attendants = 'a, b, c, d'"
   ]
  },
  {
   "cell_type": "code",
   "execution_count": 137,
   "metadata": {},
   "outputs": [
    {
     "data": {
      "text/plain": [
       "'호스트는 이주형 입니다.'"
      ]
     },
     "execution_count": 137,
     "metadata": {},
     "output_type": "execute_result"
    }
   ],
   "source": [
    "'호스트는 %s 입니다.' %host"
   ]
  },
  {
   "cell_type": "code",
   "execution_count": 138,
   "metadata": {},
   "outputs": [
    {
     "data": {
      "text/plain": [
       "'참석자는 a, b, c, d 입니다.'"
      ]
     },
     "execution_count": 138,
     "metadata": {},
     "output_type": "execute_result"
    }
   ],
   "source": [
    "'참석자는 %s 입니다.' %attendants"
   ]
  },
  {
   "cell_type": "markdown",
   "metadata": {},
   "source": [
    "합격인 학생에게 축하메세지를 보내보자"
   ]
  },
  {
   "cell_type": "code",
   "execution_count": 140,
   "metadata": {},
   "outputs": [
    {
     "name": "stdout",
     "output_type": "stream",
     "text": [
      "1번 학생은 합격입니다. 축하합니다!\n",
      "5번 학생은 합격입니다. 축하합니다!\n"
     ]
    }
   ],
   "source": [
    "test = [90, 50, 30, 45, 80]\n",
    "\n",
    "number = 0\n",
    "\n",
    "for i in test : \n",
    "    number += 1\n",
    "    if i < 60 : \n",
    "        continue    \n",
    "    print('%d번 학생은 합격입니다. 축하합니다!' %number)"
   ]
  },
  {
   "cell_type": "markdown",
   "metadata": {},
   "source": [
    "## Range 함수 설명"
   ]
  },
  {
   "cell_type": "markdown",
   "metadata": {},
   "source": [
    "for문은 숫자리스트를 자동으로 만들어 주는 range라는 함수과 함께 사용되는 경우가 많다"
   ]
  },
  {
   "cell_type": "code",
   "execution_count": 141,
   "metadata": {},
   "outputs": [
    {
     "data": {
      "text/plain": [
       "[1, 3, 5, 7, 9, 11, 13, 15, 17, 19, 21, 23, 25, 27, 29]"
      ]
     },
     "execution_count": 141,
     "metadata": {},
     "output_type": "execute_result"
    }
   ],
   "source": [
    "a = range(1, 30, 2) # range(시작수, 마지막수, 간격) 등차수열, 하지만 마지막 수는 포함 안됨\n",
    "list(a) # range 데이터를 눈으로 보고 싶으면 list로 감싸기"
   ]
  },
  {
   "cell_type": "code",
   "execution_count": 142,
   "metadata": {},
   "outputs": [
    {
     "data": {
      "text/plain": [
       "[0, 1, 2, 3, 4, 5, 6, 7, 8, 9, 10, 11, 12, 13, 14, 15, 16, 17, 18, 19]"
      ]
     },
     "execution_count": 142,
     "metadata": {},
     "output_type": "execute_result"
    }
   ],
   "source": [
    "a = range(20) # range의 디폴트 시작 값은 0, 간격은 1\n",
    "list(a)"
   ]
  },
  {
   "cell_type": "markdown",
   "metadata": {},
   "source": [
    "만약 1 부터 10까지 더하고 싶다면?"
   ]
  },
  {
   "cell_type": "code",
   "execution_count": 143,
   "metadata": {},
   "outputs": [
    {
     "data": {
      "text/plain": [
       "[1, 2, 3, 4, 5, 6, 7, 8, 9, 10]"
      ]
     },
     "execution_count": 143,
     "metadata": {},
     "output_type": "execute_result"
    }
   ],
   "source": [
    "a = range(1, 11)\n",
    "list(a)"
   ]
  },
  {
   "cell_type": "code",
   "execution_count": 144,
   "metadata": {},
   "outputs": [
    {
     "data": {
      "text/plain": [
       "55"
      ]
     },
     "execution_count": 144,
     "metadata": {},
     "output_type": "execute_result"
    }
   ],
   "source": [
    "1 + 2 + 3 + 4 + 5 + 6 + 7 + 8 + 9 + 10"
   ]
  },
  {
   "cell_type": "code",
   "execution_count": 145,
   "metadata": {},
   "outputs": [
    {
     "name": "stdout",
     "output_type": "stream",
     "text": [
      "55\n"
     ]
    }
   ],
   "source": [
    "num = 0\n",
    "\n",
    "for i in range(1,11) : \n",
    "    num += i # num = num + 1\n",
    "\n",
    "print(num)"
   ]
  },
  {
   "cell_type": "markdown",
   "metadata": {},
   "source": [
    "len 과 range를 사용한 축하메세지 보내기"
   ]
  },
  {
   "cell_type": "code",
   "execution_count": 146,
   "metadata": {},
   "outputs": [
    {
     "name": "stdout",
     "output_type": "stream",
     "text": [
      "1번 학생 합격입니다. 축하합니다!\n",
      "5번 학생 합격입니다. 축하합니다!\n"
     ]
    }
   ],
   "source": [
    "test = [90, 50, 30, 45, 80]\n",
    "\n",
    "for num in range(len(test)) : \n",
    "    if test[num] < 60 : \n",
    "        continue\n",
    "    print('%d번 학생 합격입니다. 축하합니다!' %(num+1)) # len은 0번째 부터니까 +1"
   ]
  },
  {
   "cell_type": "markdown",
   "metadata": {},
   "source": [
    "## 연습문제 2"
   ]
  },
  {
   "cell_type": "markdown",
   "metadata": {},
   "source": [
    "a라는 학생이 시험을 총 4번을 치루고 <br>\n",
    "57점, 80점, 75점, 90점 이라는 점수를 받았습니다. <br>\n",
    "이 학생의 평균 점수는 몇 점 일까요? <br>\n",
    "List 데이터를 사용해보세요!"
   ]
  },
  {
   "cell_type": "code",
   "execution_count": 34,
   "metadata": {},
   "outputs": [
    {
     "data": {
      "text/plain": [
       "75.5"
      ]
     },
     "execution_count": 34,
     "metadata": {},
     "output_type": "execute_result"
    }
   ],
   "source": [
    "a = [57, 80, 75, 90]\n",
    "sum_a = 0\n",
    "\n",
    "for item in a : \n",
    "    sum_a += item\n",
    "\n",
    "avg_a = sum_a / 4\n",
    "avg_a"
   ]
  },
  {
   "cell_type": "code",
   "execution_count": 36,
   "metadata": {},
   "outputs": [],
   "source": [
    "from PIL import Image\n",
    "import requests\n",
    "from io import BytesIO"
   ]
  },
  {
   "cell_type": "code",
   "execution_count": 38,
   "metadata": {},
   "outputs": [
    {
     "data": {
      "image/png": "[encoded data removed]",
      "text/plain": [
       "<PIL.PngImagePlugin.PngImageFile image mode=RGBA size=1992x596 at 0x10D370C88>"
      ]
     },
     "execution_count": 38,
     "metadata": {},
     "output_type": "execute_result"
    }
   ],
   "source": [
    "response = requests.get(\"https://cs.nyu.edu/elearning/CSCI_UA_0002/submodules/while_loops/whileloops_augmentedassignment.png\")\n",
    "img = Image.open(BytesIO(response.content))\n",
    "img"
   ]
  },
  {
   "cell_type": "markdown",
   "metadata": {},
   "source": [
    "## 연습문제 3"
   ]
  },
  {
   "cell_type": "markdown",
   "metadata": {},
   "source": [
    "회식으로 <br>\n",
    "삼겹살 55000원, 치킨 33000원, 피자 28000원, 아이스크림 8000원을 총 사용하였습니다.<br>\n",
    "회식 참석 인원은 5명일 때 한 사람 당 얼마를 회식비로 내면 될까요?<br>\n",
    "Dictionary 데이터를 사용해보세요!"
   ]
  },
  {
   "cell_type": "code",
   "execution_count": 97,
   "metadata": {},
   "outputs": [
    {
     "data": {
      "text/plain": [
       "24800.0"
      ]
     },
     "execution_count": 97,
     "metadata": {},
     "output_type": "execute_result"
    }
   ],
   "source": [
    "dinner = {'삼겹살' : 55000, '치킨' : 33000, '피자' : 28000, '아이스크림' : 8000}\n",
    "avg_dinner = 0\n",
    "\n",
    "for item in dinner : \n",
    "    avg_dinner += dinner[item]\n",
    "\n",
    "avg_dinner / 5"
   ]
  },
  {
   "cell_type": "markdown",
   "metadata": {},
   "source": [
    "# While 문"
   ]
  },
  {
   "cell_type": "markdown",
   "metadata": {},
   "source": [
    "## 기본 구조 설명"
   ]
  },
  {
   "cell_type": "markdown",
   "metadata": {},
   "source": [
    " - 조건문이 **참(True)** 인 동안 실행문이 반복 수행된다."
   ]
  },
  {
   "cell_type": "code",
   "execution_count": 98,
   "metadata": {
    "scrolled": true
   },
   "outputs": [
    {
     "name": "stdout",
     "output_type": "stream",
     "text": [
      "1\n",
      "2\n",
      "3\n",
      "4\n",
      "5\n",
      "6\n",
      "7\n",
      "8\n",
      "9\n",
      "10\n",
      "11\n",
      "12\n",
      "13\n",
      "14\n",
      "15\n",
      "16\n",
      "17\n",
      "18\n",
      "19\n",
      "20\n",
      "21\n",
      "22\n",
      "23\n",
      "24\n",
      "25\n",
      "26\n",
      "27\n",
      "28\n",
      "29\n",
      "30\n",
      "31\n",
      "32\n",
      "33\n",
      "34\n",
      "35\n",
      "36\n",
      "37\n",
      "38\n",
      "39\n",
      "40\n",
      "41\n",
      "42\n",
      "43\n",
      "44\n",
      "45\n",
      "46\n",
      "47\n",
      "48\n",
      "49\n",
      "50\n",
      "51\n",
      "52\n",
      "53\n",
      "54\n",
      "55\n",
      "56\n",
      "57\n",
      "58\n",
      "59\n",
      "60\n",
      "61\n",
      "62\n",
      "63\n",
      "64\n",
      "65\n",
      "66\n",
      "67\n",
      "68\n",
      "69\n",
      "70\n",
      "71\n",
      "72\n",
      "73\n",
      "74\n",
      "75\n",
      "76\n",
      "77\n",
      "78\n",
      "79\n",
      "80\n",
      "81\n",
      "82\n",
      "83\n",
      "84\n",
      "85\n",
      "86\n",
      "87\n",
      "88\n",
      "89\n",
      "90\n",
      "91\n",
      "92\n",
      "93\n",
      "94\n",
      "95\n",
      "96\n",
      "97\n",
      "98\n",
      "99\n",
      "100\n"
     ]
    }
   ],
   "source": [
    "num = 1\n",
    "\n",
    "while num <= 100 : \n",
    "    print (num)\n",
    "    num += 1"
   ]
  },
  {
   "cell_type": "markdown",
   "metadata": {},
   "source": [
    " - print를 어디에 넣는냐의 차이"
   ]
  },
  {
   "cell_type": "code",
   "execution_count": 124,
   "metadata": {},
   "outputs": [
    {
     "name": "stdout",
     "output_type": "stream",
     "text": [
      "1\n",
      "2\n",
      "3\n",
      "4\n"
     ]
    }
   ],
   "source": [
    "num = 1\n",
    "\n",
    "while num < 5 : \n",
    "    print (num)\n",
    "    num += 1"
   ]
  },
  {
   "cell_type": "code",
   "execution_count": 125,
   "metadata": {},
   "outputs": [
    {
     "name": "stdout",
     "output_type": "stream",
     "text": [
      "2\n",
      "3\n",
      "4\n",
      "5\n"
     ]
    }
   ],
   "source": [
    "num = 1\n",
    "\n",
    "while num < 5 :\n",
    "    num += 1\n",
    "    print (num)"
   ]
  },
  {
   "cell_type": "markdown",
   "metadata": {},
   "source": [
    "## Break 설명"
   ]
  },
  {
   "cell_type": "markdown",
   "metadata": {},
   "source": [
    "- 알맞은 조건을 만나면 while 반복문에서 나오게 된다."
   ]
  },
  {
   "cell_type": "code",
   "execution_count": 101,
   "metadata": {},
   "outputs": [
    {
     "name": "stdout",
     "output_type": "stream",
     "text": [
      "0\n",
      "1\n",
      "2\n",
      "3\n",
      "4\n",
      "5\n",
      "6\n",
      "7\n",
      "8\n",
      "9\n"
     ]
    }
   ],
   "source": [
    "num = 0\n",
    "\n",
    "while num < 10 :\n",
    "    print(num)\n",
    "    num += 1"
   ]
  },
  {
   "cell_type": "code",
   "execution_count": 162,
   "metadata": {},
   "outputs": [],
   "source": [
    "num = 0 # 이건 왜 안되지??\n",
    "\n",
    "while num :\n",
    "    print(num)\n",
    "    num += 1    # 여기까지는 무한반복\n",
    "    if num > 10 : \n",
    "        break    # 탈출"
   ]
  },
  {
   "cell_type": "code",
   "execution_count": 123,
   "metadata": {
    "scrolled": true
   },
   "outputs": [
    {
     "name": "stdout",
     "output_type": "stream",
     "text": [
      "1\n",
      "2\n",
      "3\n",
      "4\n",
      "5\n",
      "6\n",
      "7\n",
      "8\n",
      "9\n",
      "10\n"
     ]
    }
   ],
   "source": [
    "num = 1\n",
    "\n",
    "while num :\n",
    "    print(num)\n",
    "    num += 1    # 여기까지는 무한반복\n",
    "    if num > 10 : \n",
    "        break    # 탈출"
   ]
  },
  {
   "cell_type": "markdown",
   "metadata": {},
   "source": [
    "## continue 설명"
   ]
  },
  {
   "cell_type": "markdown",
   "metadata": {},
   "source": [
    "- continue는 해당 조건을 제외하고 while 조건문으로 가게 해준다."
   ]
  },
  {
   "cell_type": "code",
   "execution_count": 126,
   "metadata": {},
   "outputs": [
    {
     "name": "stdout",
     "output_type": "stream",
     "text": [
      "1\n",
      "2\n",
      "3\n",
      "4\n",
      "6\n",
      "7\n",
      "8\n",
      "9\n",
      "10\n"
     ]
    }
   ],
   "source": [
    "num = 0\n",
    "\n",
    "while num < 10 : \n",
    "    num += 1\n",
    "    if num == 5 : \n",
    "        continue\n",
    "    print(num)"
   ]
  },
  {
   "cell_type": "code",
   "execution_count": 127,
   "metadata": {},
   "outputs": [
    {
     "name": "stdout",
     "output_type": "stream",
     "text": [
      "2\n",
      "4\n",
      "6\n",
      "8\n",
      "10\n"
     ]
    }
   ],
   "source": [
    "num = 0\n",
    "\n",
    "while num < 11 : \n",
    "    num += 1\n",
    "    if num % 2 != 0 : \n",
    "        continue      # numd을 2로 나눈 나머지가 1이면 while 조건문으로 돌아간다.\n",
    "    print (num)\n",
    "    "
   ]
  },
  {
   "cell_type": "markdown",
   "metadata": {},
   "source": [
    "## 조금 심화 코드"
   ]
  },
  {
   "cell_type": "markdown",
   "metadata": {},
   "source": [
    "열번 찍어 안 넘어가는 나무 없다라는 속담을 반복문으로 만들어보자"
   ]
  },
  {
   "cell_type": "code",
   "execution_count": 75,
   "metadata": {},
   "outputs": [
    {
     "name": "stdout",
     "output_type": "stream",
     "text": [
      "나무를 1번 찍었습니다.\n",
      "나무를 2번 찍었습니다.\n",
      "나무를 3번 찍었습니다.\n",
      "나무를 4번 찍었습니다.\n",
      "나무를 5번 찍었습니다.\n",
      "나무를 6번 찍었습니다.\n",
      "나무를 7번 찍었습니다.\n",
      "나무를 8번 찍었습니다.\n",
      "나무를 9번 찍었습니다.\n",
      "나무를 10번 찍었습니다.\n",
      "나무가 넘어갑니다\n"
     ]
    }
   ],
   "source": [
    "treehit = 0\n",
    "while treehit < 10 : # treehit 이 10번 미만일 동안 조건문이 반복된다.\n",
    "    treehit += 1\n",
    "    print('나무를 %d번 찍었습니다.' % treehit)\n",
    "    if treehit == 10 : # treehit 이 10이 되는 순간 while 조건문에 위배되기 때문에 반복문에서 빠져나감\n",
    "        print ('나무가 넘어갑니다')"
   ]
  },
  {
   "cell_type": "markdown",
   "metadata": {},
   "source": [
    "커피 자판기를 만들어보자"
   ]
  },
  {
   "cell_type": "code",
   "execution_count": 128,
   "metadata": {
    "scrolled": true
   },
   "outputs": [
    {
     "name": "stdout",
     "output_type": "stream",
     "text": [
      "돈을 받았으니 커피를 줍니다.\n",
      "남은 커피의 양은 9개 입니다.\n",
      "돈을 받았으니 커피를 줍니다.\n",
      "남은 커피의 양은 8개 입니다.\n",
      "돈을 받았으니 커피를 줍니다.\n",
      "남은 커피의 양은 7개 입니다.\n",
      "돈을 받았으니 커피를 줍니다.\n",
      "남은 커피의 양은 6개 입니다.\n",
      "돈을 받았으니 커피를 줍니다.\n",
      "남은 커피의 양은 5개 입니다.\n",
      "돈을 받았으니 커피를 줍니다.\n",
      "남은 커피의 양은 4개 입니다.\n",
      "돈을 받았으니 커피를 줍니다.\n",
      "남은 커피의 양은 3개 입니다.\n",
      "돈을 받았으니 커피를 줍니다.\n",
      "남은 커피의 양은 2개 입니다.\n",
      "돈을 받았으니 커피를 줍니다.\n",
      "남은 커피의 양은 1개 입니다.\n",
      "돈을 받았으니 커피를 줍니다.\n",
      "남은 커피의 양은 0개 입니다.\n",
      "커피가 다 떨어졌습니다. 판매를 중지합니다.\n"
     ]
    }
   ],
   "source": [
    "coffee = 10\n",
    "money = 1\n",
    "\n",
    "while money : \n",
    "    print(\"돈을 받았으니 커피를 줍니다.\")\n",
    "    coffee -=1\n",
    "    print('남은 커피의 양은 %d개 입니다.' %coffee)\n",
    "    if coffee == 0 :\n",
    "        print('커피가 다 떨어졌습니다. 판매를 중지합니다.')\n",
    "        break\n",
    "    "
   ]
  },
  {
   "cell_type": "code",
   "execution_count": 1,
   "metadata": {
    "scrolled": true
   },
   "outputs": [
    {
     "name": "stdout",
     "output_type": "stream",
     "text": [
      "돈을 넣어 주세요 : 300\n",
      "커피를 줍니다.\n",
      "돈을 넣어 주세요 : 500\n",
      "거스름돈 200와 커피를 줍니다.\n",
      "돈을 넣어 주세요 : 200\n",
      "금액이 모자랍니다. 커피 가격은 300 입니다\n",
      "남은 커프의 양은 8 입니다\n",
      "돈을 넣어 주세요 : 100\n",
      "금액이 모자랍니다. 커피 가격은 300 입니다\n",
      "남은 커프의 양은 8 입니다\n",
      "돈을 넣어 주세요 : 500\n",
      "거스름돈 200와 커피를 줍니다.\n",
      "돈을 넣어 주세요 : 900\n",
      "거스름돈 600와 커피를 줍니다.\n",
      "돈을 넣어 주세요 : 400\n",
      "거스름돈 100와 커피를 줍니다.\n",
      "돈을 넣어 주세요 : 200\n",
      "금액이 모자랍니다. 커피 가격은 300 입니다\n",
      "남은 커프의 양은 5 입니다\n",
      "돈을 넣어 주세요 : 600\n",
      "거스름돈 300와 커피를 줍니다.\n",
      "돈을 넣어 주세요 : 400\n",
      "거스름돈 100와 커피를 줍니다.\n",
      "돈을 넣어 주세요 : 400\n",
      "거스름돈 100와 커피를 줍니다.\n",
      "돈을 넣어 주세요 : 200\n",
      "금액이 모자랍니다. 커피 가격은 300 입니다\n",
      "남은 커프의 양은 2 입니다\n",
      "돈을 넣어 주세요 : 300\n",
      "커피를 줍니다.\n",
      "돈을 넣어 주세요 : 300\n",
      "커피를 줍니다.\n",
      "커피가 다 떨어졌습니다. 판매를 중지합니다. \n"
     ]
    }
   ],
   "source": [
    "coffee = 10 # 무한 반복 빠져나가기 : i*2 (i 2번 누르기) \n",
    "\n",
    "while True :\n",
    "    money = int(input('돈을 넣어 주세요 : '))\n",
    "    if money == 300 : \n",
    "        print('커피를 줍니다.')\n",
    "        coffee -= 1\n",
    "    elif money > 300 : \n",
    "        print('거스름돈 %d와 커피를 줍니다.' %(money-300))\n",
    "        coffee -=1\n",
    "    else : \n",
    "        print('금액이 모자랍니다. 커피 가격은 300 입니다')\n",
    "        print('남은 커프의 양은 %d 입니다' %coffee)\n",
    "    if coffee == 0 :\n",
    "        print('커피가 다 떨어졌습니다. 판매를 중지합니다. ')\n",
    "        break\n",
    "        "
   ]
  },
  {
   "cell_type": "markdown",
   "metadata": {},
   "source": [
    "# 종합 연습 문제"
   ]
  },
  {
   "cell_type": "markdown",
   "metadata": {},
   "source": [
    "for문과 if문을 사용하여 1부터 100까지 짝수만 더해보세요"
   ]
  },
  {
   "cell_type": "code",
   "execution_count": 149,
   "metadata": {},
   "outputs": [
    {
     "name": "stdout",
     "output_type": "stream",
     "text": [
      "2550\n"
     ]
    }
   ],
   "source": [
    "sum_even = 0\n",
    "\n",
    "for i in range(1, 101) : \n",
    "    if i%2 == 0 : \n",
    "        sum_even += i\n",
    "    else : \n",
    "        continue\n",
    "print(sum_even)"
   ]
  },
  {
   "cell_type": "markdown",
   "metadata": {},
   "source": [
    "for문과 if문을 사용하여 1부터 100까지 홀수만 더해보세요"
   ]
  },
  {
   "cell_type": "code",
   "execution_count": 152,
   "metadata": {},
   "outputs": [
    {
     "name": "stdout",
     "output_type": "stream",
     "text": [
      "2500\n"
     ]
    }
   ],
   "source": [
    "sum_odd = 0\n",
    "\n",
    "for i in range(1, 101) : \n",
    "    if i%2 == 1 : \n",
    "        sum_odd += i\n",
    "    else : \n",
    "        continue\n",
    "print(sum_odd)"
   ]
  },
  {
   "cell_type": "markdown",
   "metadata": {},
   "source": [
    "while문과 if문을 사용하여 1부터 100까지 짝수만 더해보세요"
   ]
  },
  {
   "cell_type": "code",
   "execution_count": 167,
   "metadata": {},
   "outputs": [
    {
     "name": "stdout",
     "output_type": "stream",
     "text": [
      "2550\n"
     ]
    }
   ],
   "source": [
    "ev_num = 0\n",
    "sum_ev = 0\n",
    "\n",
    "while ev_num <= 100 :\n",
    "    if ev_num % 2 == 0 :\n",
    "        sum_ev += ev_num\n",
    "    ev_num += 1\n",
    "    \n",
    "print(sum_ev)"
   ]
  },
  {
   "cell_type": "code",
   "execution_count": null,
   "metadata": {},
   "outputs": [],
   "source": []
  }
 ],
 "metadata": {
  "kernelspec": {
   "display_name": "Python 3",
   "language": "python",
   "name": "python3"
  },
  "language_info": {
   "codemirror_mode": {
    "name": "ipython",
    "version": 3
   },
   "file_extension": ".py",
   "mimetype": "text/x-python",
   "name": "python",
   "nbconvert_exporter": "python",
   "pygments_lexer": "ipython3",
   "version": "3.7.1"
  },
  "toc": {
   "base_numbering": 1,
   "nav_menu": {},
   "number_sections": true,
   "sideBar": true,
   "skip_h1_title": false,
   "title_cell": "Table of Contents",
   "title_sidebar": "Contents",
   "toc_cell": false,
   "toc_position": {
    "height": "calc(100% - 180px)",
    "left": "10px",
    "top": "150px",
    "width": "243.797px"
   },
   "toc_section_display": true,
   "toc_window_display": true
  }
 },
 "nbformat": 4,
 "nbformat_minor": 2
}
